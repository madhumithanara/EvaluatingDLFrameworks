{
 "cells": [
  {
   "cell_type": "code",
   "execution_count": 1,
   "metadata": {},
   "outputs": [],
   "source": [
    "import tensorflow as tf\n",
    "from tensorflow import keras\n",
    "import pandas as pd\n",
    "import matplotlib.pyplot as plt\n",
    "import numpy as np\n",
    "from sklearn.preprocessing import normalize"
   ]
  },
  {
   "cell_type": "code",
   "execution_count": 2,
   "metadata": {},
   "outputs": [],
   "source": [
    "sess_cpu = tf.Session(config=tf.ConfigProto(device_count={'GPU': 0}))\n",
    "mnist = tf.keras.datasets.mnist\n",
    "(trainx,trainy),(testx,testy)=mnist.load_data()\n",
    "\n",
    "trainx=trainx.reshape(trainx.shape[0],trainx.shape[1],trainx.shape[2],1).astype('float32')\n",
    "testx=testx.reshape(testx.shape[0],testx.shape[1],testx.shape[2],1).astype('float32')\n",
    "\n",
    "trainy=tf.keras.utils.to_categorical(trainy,10)\n",
    "testy=tf.keras.utils.to_categorical(testy,10)"
   ]
  },
  {
   "cell_type": "code",
   "execution_count": 3,
   "metadata": {},
   "outputs": [],
   "source": [
    "filter_input=(5,5)\n",
    "filter_hidden=(5,5)\n",
    "data_format='channels_last'\n",
    "pool=(2,2)\n",
    "\n",
    "trainx/=255\n",
    "testx/=255\n"
   ]
  },
  {
   "cell_type": "code",
   "execution_count": 4,
   "metadata": {},
   "outputs": [],
   "source": [
    "model=keras.Sequential()\n",
    "\n",
    "model.add(keras.layers.Conv2D(20,filter_input,activation='relu'))\n",
    "model.add(keras.layers.MaxPool2D(pool))\n",
    "model.add(keras.layers.Conv2D(50,filter_hidden,activation='relu'))\n",
    "model.add(keras.layers.MaxPool2D(pool))\n",
    "\n",
    "\n",
    "\n",
    "model.add(keras.layers.Flatten())\n",
    "model.add(keras.layers.Dense(500,activation='relu'))\n",
    "model.add(keras.layers.Dense(10,activation='softmax'))\n",
    "model.compile(loss='categorical_crossentropy',optimizer='adam',metrics=['accuracy'])"
   ]
  },
  {
   "cell_type": "code",
   "execution_count": 5,
   "metadata": {},
   "outputs": [
    {
     "name": "stdout",
     "output_type": "stream",
     "text": [
      "Train on 60000 samples, validate on 10000 samples\n",
      "Epoch 1/50\n",
      "60000/60000 [==============================] - 8s 138us/step - loss: 0.1264 - acc: 0.9612 - val_loss: 0.0497 - val_acc: 0.9831\n",
      "Epoch 2/50\n",
      "60000/60000 [==============================] - 7s 109us/step - loss: 0.0401 - acc: 0.9878 - val_loss: 0.0365 - val_acc: 0.9885\n",
      "Epoch 3/50\n",
      "60000/60000 [==============================] - 7s 113us/step - loss: 0.0258 - acc: 0.9917 - val_loss: 0.0338 - val_acc: 0.9890\n",
      "Epoch 4/50\n",
      "60000/60000 [==============================] - 7s 114us/step - loss: 0.0202 - acc: 0.9936 - val_loss: 0.0305 - val_acc: 0.9906\n",
      "Epoch 5/50\n",
      "60000/60000 [==============================] - 7s 112us/step - loss: 0.0154 - acc: 0.9953 - val_loss: 0.0317 - val_acc: 0.9907\n",
      "Epoch 6/50\n",
      "60000/60000 [==============================] - 8s 134us/step - loss: 0.0123 - acc: 0.9961 - val_loss: 0.0306 - val_acc: 0.9915\n",
      "Epoch 7/50\n",
      "60000/60000 [==============================] - 8s 127us/step - loss: 0.0101 - acc: 0.9969 - val_loss: 0.0330 - val_acc: 0.9914\n",
      "Epoch 8/50\n",
      "60000/60000 [==============================] - 8s 126us/step - loss: 0.0094 - acc: 0.9971 - val_loss: 0.0319 - val_acc: 0.9930\n",
      "Epoch 9/50\n",
      "60000/60000 [==============================] - 8s 130us/step - loss: 0.0094 - acc: 0.9972 - val_loss: 0.0353 - val_acc: 0.9918\n",
      "Epoch 10/50\n",
      "60000/60000 [==============================] - 7s 117us/step - loss: 0.0076 - acc: 0.9975 - val_loss: 0.0373 - val_acc: 0.9917\n",
      "Epoch 11/50\n",
      "60000/60000 [==============================] - 8s 126us/step - loss: 0.0060 - acc: 0.9982 - val_loss: 0.0407 - val_acc: 0.9905\n",
      "Epoch 12/50\n",
      "60000/60000 [==============================] - 8s 125us/step - loss: 0.0050 - acc: 0.9985 - val_loss: 0.0401 - val_acc: 0.9916\n",
      "Epoch 13/50\n",
      "60000/60000 [==============================] - 8s 129us/step - loss: 0.0060 - acc: 0.9983 - val_loss: 0.0341 - val_acc: 0.9927\n",
      "Epoch 14/50\n",
      "60000/60000 [==============================] - 8s 132us/step - loss: 0.0063 - acc: 0.9982 - val_loss: 0.0310 - val_acc: 0.9930\n",
      "Epoch 15/50\n",
      "60000/60000 [==============================] - 7s 119us/step - loss: 0.0038 - acc: 0.9988 - val_loss: 0.0314 - val_acc: 0.9934\n",
      "Epoch 16/50\n",
      "60000/60000 [==============================] - 7s 122us/step - loss: 0.0046 - acc: 0.9987 - val_loss: 0.0384 - val_acc: 0.9926\n",
      "Epoch 17/50\n",
      "60000/60000 [==============================] - 7s 121us/step - loss: 0.0058 - acc: 0.9985 - val_loss: 0.0435 - val_acc: 0.9926\n",
      "Epoch 18/50\n",
      "60000/60000 [==============================] - 7s 122us/step - loss: 0.0041 - acc: 0.9989 - val_loss: 0.0462 - val_acc: 0.9921\n",
      "Epoch 19/50\n",
      "60000/60000 [==============================] - 7s 114us/step - loss: 0.0036 - acc: 0.9992 - val_loss: 0.0462 - val_acc: 0.9909\n",
      "Epoch 20/50\n",
      "60000/60000 [==============================] - 7s 114us/step - loss: 0.0041 - acc: 0.9988 - val_loss: 0.0483 - val_acc: 0.9915\n",
      "Epoch 21/50\n",
      "60000/60000 [==============================] - 7s 115us/step - loss: 0.0038 - acc: 0.9990 - val_loss: 0.0472 - val_acc: 0.9922\n",
      "Epoch 22/50\n",
      "60000/60000 [==============================] - 7s 119us/step - loss: 0.0040 - acc: 0.9987 - val_loss: 0.0470 - val_acc: 0.9925\n",
      "Epoch 23/50\n",
      "60000/60000 [==============================] - 7s 124us/step - loss: 0.0022 - acc: 0.9995 - val_loss: 0.0519 - val_acc: 0.9927\n",
      "Epoch 24/50\n",
      "60000/60000 [==============================] - 7s 125us/step - loss: 0.0056 - acc: 0.9985 - val_loss: 0.0588 - val_acc: 0.9916\n",
      "Epoch 25/50\n",
      "19100/60000 [========>.....................] - ETA: 4s - loss: 0.0058 - acc: 0.9983"
     ]
    },
    {
     "ename": "KeyboardInterrupt",
     "evalue": "",
     "output_type": "error",
     "traceback": [
      "\u001b[0;31m---------------------------------------------------------------------------\u001b[0m",
      "\u001b[0;31mKeyboardInterrupt\u001b[0m                         Traceback (most recent call last)",
      "\u001b[0;32m<ipython-input-5-a8669bd45c45>\u001b[0m in \u001b[0;36m<module>\u001b[0;34m\u001b[0m\n\u001b[0;32m----> 1\u001b[0;31m \u001b[0mhistory\u001b[0m\u001b[0;34m=\u001b[0m\u001b[0mmodel\u001b[0m\u001b[0;34m.\u001b[0m\u001b[0mfit\u001b[0m\u001b[0;34m(\u001b[0m\u001b[0mtrainx\u001b[0m\u001b[0;34m,\u001b[0m\u001b[0mtrainy\u001b[0m\u001b[0;34m,\u001b[0m\u001b[0mvalidation_data\u001b[0m\u001b[0;34m=\u001b[0m\u001b[0;34m(\u001b[0m\u001b[0mtestx\u001b[0m\u001b[0;34m,\u001b[0m\u001b[0mtesty\u001b[0m\u001b[0;34m)\u001b[0m\u001b[0;34m,\u001b[0m\u001b[0mepochs\u001b[0m\u001b[0;34m=\u001b[0m\u001b[0;36m50\u001b[0m\u001b[0;34m,\u001b[0m\u001b[0mbatch_size\u001b[0m\u001b[0;34m=\u001b[0m\u001b[0;36m50\u001b[0m\u001b[0;34m)\u001b[0m\u001b[0;34m\u001b[0m\u001b[0;34m\u001b[0m\u001b[0m\n\u001b[0m",
      "\u001b[0;32m~/anaconda3/lib/python3.6/site-packages/tensorflow/python/keras/engine/training.py\u001b[0m in \u001b[0;36mfit\u001b[0;34m(self, x, y, batch_size, epochs, verbose, callbacks, validation_split, validation_data, shuffle, class_weight, sample_weight, initial_epoch, steps_per_epoch, validation_steps, max_queue_size, workers, use_multiprocessing, **kwargs)\u001b[0m\n\u001b[1;32m   1637\u001b[0m           \u001b[0minitial_epoch\u001b[0m\u001b[0;34m=\u001b[0m\u001b[0minitial_epoch\u001b[0m\u001b[0;34m,\u001b[0m\u001b[0;34m\u001b[0m\u001b[0;34m\u001b[0m\u001b[0m\n\u001b[1;32m   1638\u001b[0m           \u001b[0msteps_per_epoch\u001b[0m\u001b[0;34m=\u001b[0m\u001b[0msteps_per_epoch\u001b[0m\u001b[0;34m,\u001b[0m\u001b[0;34m\u001b[0m\u001b[0;34m\u001b[0m\u001b[0m\n\u001b[0;32m-> 1639\u001b[0;31m           validation_steps=validation_steps)\n\u001b[0m\u001b[1;32m   1640\u001b[0m \u001b[0;34m\u001b[0m\u001b[0m\n\u001b[1;32m   1641\u001b[0m   def evaluate(self,\n",
      "\u001b[0;32m~/anaconda3/lib/python3.6/site-packages/tensorflow/python/keras/engine/training_arrays.py\u001b[0m in \u001b[0;36mfit_loop\u001b[0;34m(model, inputs, targets, sample_weights, batch_size, epochs, verbose, callbacks, val_inputs, val_targets, val_sample_weights, shuffle, initial_epoch, steps_per_epoch, validation_steps)\u001b[0m\n\u001b[1;32m    213\u001b[0m           \u001b[0mins_batch\u001b[0m\u001b[0;34m[\u001b[0m\u001b[0mi\u001b[0m\u001b[0;34m]\u001b[0m \u001b[0;34m=\u001b[0m \u001b[0mins_batch\u001b[0m\u001b[0;34m[\u001b[0m\u001b[0mi\u001b[0m\u001b[0;34m]\u001b[0m\u001b[0;34m.\u001b[0m\u001b[0mtoarray\u001b[0m\u001b[0;34m(\u001b[0m\u001b[0;34m)\u001b[0m\u001b[0;34m\u001b[0m\u001b[0;34m\u001b[0m\u001b[0m\n\u001b[1;32m    214\u001b[0m \u001b[0;34m\u001b[0m\u001b[0m\n\u001b[0;32m--> 215\u001b[0;31m         \u001b[0mouts\u001b[0m \u001b[0;34m=\u001b[0m \u001b[0mf\u001b[0m\u001b[0;34m(\u001b[0m\u001b[0mins_batch\u001b[0m\u001b[0;34m)\u001b[0m\u001b[0;34m\u001b[0m\u001b[0;34m\u001b[0m\u001b[0m\n\u001b[0m\u001b[1;32m    216\u001b[0m         \u001b[0;32mif\u001b[0m \u001b[0;32mnot\u001b[0m \u001b[0misinstance\u001b[0m\u001b[0;34m(\u001b[0m\u001b[0mouts\u001b[0m\u001b[0;34m,\u001b[0m \u001b[0mlist\u001b[0m\u001b[0;34m)\u001b[0m\u001b[0;34m:\u001b[0m\u001b[0;34m\u001b[0m\u001b[0;34m\u001b[0m\u001b[0m\n\u001b[1;32m    217\u001b[0m           \u001b[0mouts\u001b[0m \u001b[0;34m=\u001b[0m \u001b[0;34m[\u001b[0m\u001b[0mouts\u001b[0m\u001b[0;34m]\u001b[0m\u001b[0;34m\u001b[0m\u001b[0;34m\u001b[0m\u001b[0m\n",
      "\u001b[0;32m~/anaconda3/lib/python3.6/site-packages/tensorflow/python/keras/backend.py\u001b[0m in \u001b[0;36m__call__\u001b[0;34m(self, inputs)\u001b[0m\n\u001b[1;32m   2984\u001b[0m \u001b[0;34m\u001b[0m\u001b[0m\n\u001b[1;32m   2985\u001b[0m     fetched = self._callable_fn(*array_vals,\n\u001b[0;32m-> 2986\u001b[0;31m                                 run_metadata=self.run_metadata)\n\u001b[0m\u001b[1;32m   2987\u001b[0m     \u001b[0mself\u001b[0m\u001b[0;34m.\u001b[0m\u001b[0m_call_fetch_callbacks\u001b[0m\u001b[0;34m(\u001b[0m\u001b[0mfetched\u001b[0m\u001b[0;34m[\u001b[0m\u001b[0;34m-\u001b[0m\u001b[0mlen\u001b[0m\u001b[0;34m(\u001b[0m\u001b[0mself\u001b[0m\u001b[0;34m.\u001b[0m\u001b[0m_fetches\u001b[0m\u001b[0;34m)\u001b[0m\u001b[0;34m:\u001b[0m\u001b[0;34m]\u001b[0m\u001b[0;34m)\u001b[0m\u001b[0;34m\u001b[0m\u001b[0;34m\u001b[0m\u001b[0m\n\u001b[1;32m   2988\u001b[0m     \u001b[0;32mreturn\u001b[0m \u001b[0mfetched\u001b[0m\u001b[0;34m[\u001b[0m\u001b[0;34m:\u001b[0m\u001b[0mlen\u001b[0m\u001b[0;34m(\u001b[0m\u001b[0mself\u001b[0m\u001b[0;34m.\u001b[0m\u001b[0moutputs\u001b[0m\u001b[0;34m)\u001b[0m\u001b[0;34m]\u001b[0m\u001b[0;34m\u001b[0m\u001b[0;34m\u001b[0m\u001b[0m\n",
      "\u001b[0;32m~/anaconda3/lib/python3.6/site-packages/tensorflow/python/client/session.py\u001b[0m in \u001b[0;36m__call__\u001b[0;34m(self, *args, **kwargs)\u001b[0m\n\u001b[1;32m   1437\u001b[0m           ret = tf_session.TF_SessionRunCallable(\n\u001b[1;32m   1438\u001b[0m               \u001b[0mself\u001b[0m\u001b[0;34m.\u001b[0m\u001b[0m_session\u001b[0m\u001b[0;34m.\u001b[0m\u001b[0m_session\u001b[0m\u001b[0;34m,\u001b[0m \u001b[0mself\u001b[0m\u001b[0;34m.\u001b[0m\u001b[0m_handle\u001b[0m\u001b[0;34m,\u001b[0m \u001b[0margs\u001b[0m\u001b[0;34m,\u001b[0m \u001b[0mstatus\u001b[0m\u001b[0;34m,\u001b[0m\u001b[0;34m\u001b[0m\u001b[0;34m\u001b[0m\u001b[0m\n\u001b[0;32m-> 1439\u001b[0;31m               run_metadata_ptr)\n\u001b[0m\u001b[1;32m   1440\u001b[0m         \u001b[0;32mif\u001b[0m \u001b[0mrun_metadata\u001b[0m\u001b[0;34m:\u001b[0m\u001b[0;34m\u001b[0m\u001b[0;34m\u001b[0m\u001b[0m\n\u001b[1;32m   1441\u001b[0m           \u001b[0mproto_data\u001b[0m \u001b[0;34m=\u001b[0m \u001b[0mtf_session\u001b[0m\u001b[0;34m.\u001b[0m\u001b[0mTF_GetBuffer\u001b[0m\u001b[0;34m(\u001b[0m\u001b[0mrun_metadata_ptr\u001b[0m\u001b[0;34m)\u001b[0m\u001b[0;34m\u001b[0m\u001b[0;34m\u001b[0m\u001b[0m\n",
      "\u001b[0;31mKeyboardInterrupt\u001b[0m: "
     ]
    }
   ],
   "source": [
    "history=model.fit(trainx,trainy,validation_data=(testx,testy),epochs=50,batch_size=50)"
   ]
  },
  {
   "cell_type": "code",
   "execution_count": 6,
   "metadata": {},
   "outputs": [
    {
     "name": "stdout",
     "output_type": "stream",
     "text": [
      "_________________________________________________________________\n",
      "Layer (type)                 Output Shape              Param #   \n",
      "=================================================================\n",
      "conv2d (Conv2D)              multiple                  520       \n",
      "_________________________________________________________________\n",
      "max_pooling2d (MaxPooling2D) multiple                  0         \n",
      "_________________________________________________________________\n",
      "conv2d_1 (Conv2D)            multiple                  25050     \n",
      "_________________________________________________________________\n",
      "max_pooling2d_1 (MaxPooling2 multiple                  0         \n",
      "_________________________________________________________________\n",
      "flatten (Flatten)            multiple                  0         \n",
      "_________________________________________________________________\n",
      "dense (Dense)                multiple                  400500    \n",
      "_________________________________________________________________\n",
      "dense_1 (Dense)              multiple                  5010      \n",
      "=================================================================\n",
      "Total params: 431,080\n",
      "Trainable params: 431,080\n",
      "Non-trainable params: 0\n",
      "_________________________________________________________________\n"
     ]
    },
    {
     "data": {
      "image/png": "[encoded data removed]",
      "text/plain": [
       "<Figure size 432x288 with 1 Axes>"
      ]
     },
     "metadata": {
      "needs_background": "light"
     },
     "output_type": "display_data"
    }
   ],
   "source": [
    "model.summary()\n",
    "plt.plot(history.history['acc'])\n",
    "plt.plot(history.history['val_acc'])\n",
    "plt.title('Train accuracy')\n",
    "plt.ylabel('accuracy')\n",
    "plt.xlabel('epoch')\n",
    "plt.legend(['train', 'test'], loc='upper left')\n",
    "plt.show()"
   ]
  },
  {
   "cell_type": "code",
   "execution_count": 7,
   "metadata": {},
   "outputs": [
    {
     "name": "stdout",
     "output_type": "stream",
     "text": [
      "[0.9611000018008053, 0.9882833370566368, 0.9912000039219856, 0.9939500033855438, 0.9951666698853174, 0.9957000026106835, 0.9967000026007493, 0.9963833359877269, 0.9973500020305316, 0.9982666681706905, 0.9974833351870378, 0.9979500016073386, 0.9982500014205774, 0.9985666677355767, 0.9980833348631859, 0.9985666677852472, 0.9992333340148131, 0.9986666679382324, 0.9984000012775263, 0.9992666672666868, 0.9990500006576379, 0.99833333487312, 0.99905000085632, 0.9990333341062069, 0.9988166676958402, 0.9990666675567627, 0.9987166677912076, 0.9994833337763945, 0.998800001045068, 0.9992666673163573, 0.9991166674097379, 0.9989833342035611, 0.9992500006159146, 0.9990000007549922, 0.9991333341101806, 0.9992666673660279, 0.9992500007152557, 0.9990000009040038, 0.9991833340128263, 0.9990666675567627, 0.9990666675070922, 0.9995333337783814, 0.9991500007609526, 0.999483333826065, 0.9995166671276092, 0.9991833341121673, 0.9995000004768372, 0.9992000007132689, 0.9991000007589658, 0.9997000002364318]\n"
     ]
    }
   ],
   "source": [
    "print(history.history['acc'])"
   ]
  },
  {
   "cell_type": "code",
   "execution_count": 17,
   "metadata": {},
   "outputs": [
    {
     "name": "stdout",
     "output_type": "stream",
     "text": [
      "0\t96.11000018008053\n",
      "1\t98.82833370566368\n",
      "2\t99.12000039219856\n",
      "3\t99.39500033855438\n",
      "4\t99.51666698853174\n",
      "5\t99.57000026106834\n",
      "6\t99.67000026007493\n",
      "7\t99.63833359877269\n",
      "8\t99.73500020305316\n",
      "9\t99.82666681706905\n",
      "10\t99.74833351870377\n",
      "11\t99.79500016073386\n",
      "12\t99.82500014205775\n",
      "13\t99.85666677355766\n",
      "14\t99.80833348631859\n",
      "15\t99.85666677852471\n",
      "16\t99.9233334014813\n",
      "17\t99.86666679382324\n",
      "18\t99.84000012775263\n",
      "19\t99.92666672666869\n",
      "20\t99.9050000657638\n",
      "21\t99.833333487312\n",
      "22\t99.905000085632\n",
      "23\t99.90333341062069\n",
      "24\t99.88166676958402\n",
      "25\t99.90666675567627\n",
      "26\t99.87166677912076\n",
      "27\t99.94833337763946\n",
      "28\t99.8800001045068\n",
      "29\t99.92666673163572\n",
      "30\t99.91166674097379\n",
      "31\t99.89833342035611\n",
      "32\t99.92500006159146\n",
      "33\t99.90000007549922\n",
      "34\t99.91333341101806\n",
      "35\t99.92666673660278\n",
      "36\t99.92500007152557\n",
      "37\t99.90000009040038\n",
      "38\t99.91833340128264\n",
      "39\t99.90666675567627\n",
      "40\t99.90666675070922\n",
      "41\t99.95333337783813\n",
      "42\t99.91500007609527\n",
      "43\t99.9483333826065\n",
      "44\t99.95166671276093\n",
      "45\t99.91833341121674\n",
      "46\t99.95000004768372\n",
      "47\t99.92000007132688\n",
      "48\t99.91000007589658\n",
      "49\t99.97000002364318\n"
     ]
    }
   ],
   "source": [
    "f=open(\"Accuracy MNIST_keras\",\"a\")\n",
    "for i in range(50):\n",
    "    acc=str(history.history['acc'][i]*100)\n",
    "    to_write=str(i)+\"\\t\"+acc\n",
    "    f.write(to_write)\n",
    "    f.write(\"\\n\")\n",
    "    print(to_write)\n",
    "f.close()\n",
    "    "
   ]
  },
  {
   "cell_type": "code",
   "execution_count": null,
   "metadata": {},
   "outputs": [],
   "source": []
  }
 ],
 "metadata": {
  "kernelspec": {
   "display_name": "Python 3",
   "language": "python",
   "name": "python3"
  },
  "language_info": {
   "codemirror_mode": {
    "name": "ipython",
    "version": 3
   },
   "file_extension": ".py",
   "mimetype": "text/x-python",
   "name": "python",
   "nbconvert_exporter": "python",
   "pygments_lexer": "ipython3",
   "version": "3.6.8"
  }
 },
 "nbformat": 4,
 "nbformat_minor": 2
}
