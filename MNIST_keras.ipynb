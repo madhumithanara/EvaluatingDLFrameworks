{
 "cells": [
  {
   "cell_type": "code",
   "execution_count": 1,
   "metadata": {},
   "outputs": [],
   "source": [
    "import tensorflow as tf\n",
    "from tensorflow import keras\n",
    "import pandas as pd\n",
    "import matplotlib.pyplot as plt\n",
    "import numpy as np\n",
    "from sklearn.preprocessing import normalize"
   ]
  },
  {
   "cell_type": "code",
   "execution_count": 2,
   "metadata": {},
   "outputs": [],
   "source": [
    "mnist = tf.keras.datasets.mnist\n",
    "(trainx,trainy),(testx,testy)=mnist.load_data()\n",
    "\n",
    "trainx=trainx.reshape(trainx.shape[0],trainx.shape[1],trainx.shape[2],1).astype('float32')\n",
    "testx=testx.reshape(testx.shape[0],testx.shape[1],testx.shape[2],1).astype('float32')\n",
    "\n",
    "trainy=tf.keras.utils.to_categorical(trainy,10)\n",
    "testy=tf.keras.utils.to_categorical(testy,10)"
   ]
  },
  {
   "cell_type": "code",
   "execution_count": 3,
   "metadata": {},
   "outputs": [],
   "source": [
    "filter_input=(5,5)\n",
    "filter_hidden=(3,3)\n",
    "data_format='channels_last'\n",
    "pool=(2,2)\n",
    "\n",
    "trainx/=255\n",
    "testx/=255\n"
   ]
  },
  {
   "cell_type": "code",
   "execution_count": 8,
   "metadata": {},
   "outputs": [],
   "source": [
    "model=keras.Sequential()\n",
    "\n",
    "model.add(keras.layers.Conv2D(32,filter_input,activation='relu'))\n",
    "model.add(keras.layers.MaxPool2D(pool))\n",
    "model.add(keras.layers.Conv2D(32,filter_hidden,activation='relu'))\n",
    "model.add(keras.layers.MaxPool2D(pool))\n",
    "\n",
    "\n",
    "\n",
    "model.add(keras.layers.Flatten())\n",
    "model.add(keras.layers.Dense(128,activation='relu'))\n",
    "model.add(keras.layers.Dense(10,activation='softmax'))\n",
    "model.compile(loss='categorical_crossentropy',optimizer='adam',metrics=['accuracy'])"
   ]
  },
  {
   "cell_type": "code",
   "execution_count": 10,
   "metadata": {},
   "outputs": [
    {
     "name": "stdout",
     "output_type": "stream",
     "text": [
      "Train on 60000 samples, validate on 10000 samples\n",
      "Epoch 1/50\n",
      "60000/60000 [==============================] - 7s 109us/step - loss: 0.0533 - acc: 0.9837 - val_loss: 0.0317 - val_acc: 0.9887\n",
      "Epoch 2/50\n",
      "60000/60000 [==============================] - 6s 98us/step - loss: 0.0328 - acc: 0.9901 - val_loss: 0.0287 - val_acc: 0.9904\n",
      "Epoch 3/50\n",
      "60000/60000 [==============================] - 5s 89us/step - loss: 0.0262 - acc: 0.9916 - val_loss: 0.0285 - val_acc: 0.9903\n",
      "Epoch 4/50\n",
      "60000/60000 [==============================] - 6s 100us/step - loss: 0.0194 - acc: 0.9937 - val_loss: 0.0238 - val_acc: 0.9919\n",
      "Epoch 5/50\n",
      "60000/60000 [==============================] - 6s 103us/step - loss: 0.0150 - acc: 0.9950 - val_loss: 0.0265 - val_acc: 0.9916\n",
      "Epoch 6/50\n",
      "60000/60000 [==============================] - 6s 100us/step - loss: 0.0130 - acc: 0.9959 - val_loss: 0.0335 - val_acc: 0.9895\n",
      "Epoch 7/50\n",
      "60000/60000 [==============================] - 6s 97us/step - loss: 0.0111 - acc: 0.9962 - val_loss: 0.0238 - val_acc: 0.9925\n",
      "Epoch 8/50\n",
      "60000/60000 [==============================] - 6s 98us/step - loss: 0.0097 - acc: 0.9970 - val_loss: 0.0317 - val_acc: 0.9911\n",
      "Epoch 9/50\n",
      "60000/60000 [==============================] - 6s 102us/step - loss: 0.0082 - acc: 0.9973 - val_loss: 0.0244 - val_acc: 0.9931\n",
      "Epoch 10/50\n",
      "60000/60000 [==============================] - 6s 100us/step - loss: 0.0083 - acc: 0.9973 - val_loss: 0.0283 - val_acc: 0.9921\n",
      "Epoch 11/50\n",
      "60000/60000 [==============================] - 6s 101us/step - loss: 0.0052 - acc: 0.9984 - val_loss: 0.0350 - val_acc: 0.9922\n",
      "Epoch 12/50\n",
      "60000/60000 [==============================] - 6s 97us/step - loss: 0.0079 - acc: 0.9974 - val_loss: 0.0369 - val_acc: 0.9914\n",
      "Epoch 13/50\n",
      "60000/60000 [==============================] - 6s 105us/step - loss: 0.0045 - acc: 0.9984 - val_loss: 0.0350 - val_acc: 0.9921\n",
      "Epoch 14/50\n",
      "60000/60000 [==============================] - 7s 119us/step - loss: 0.0053 - acc: 0.9982 - val_loss: 0.0328 - val_acc: 0.9922\n",
      "Epoch 15/50\n",
      "60000/60000 [==============================] - 7s 122us/step - loss: 0.0054 - acc: 0.9983 - val_loss: 0.0348 - val_acc: 0.9910\n",
      "Epoch 16/50\n",
      "60000/60000 [==============================] - 7s 123us/step - loss: 0.0047 - acc: 0.9985 - val_loss: 0.0385 - val_acc: 0.9908\n",
      "Epoch 17/50\n",
      "60000/60000 [==============================] - 7s 113us/step - loss: 0.0042 - acc: 0.9987 - val_loss: 0.0327 - val_acc: 0.9928\n",
      "Epoch 18/50\n",
      "60000/60000 [==============================] - 7s 111us/step - loss: 0.0046 - acc: 0.9986 - val_loss: 0.0472 - val_acc: 0.9902\n",
      "Epoch 19/50\n",
      "60000/60000 [==============================] - 7s 111us/step - loss: 0.0041 - acc: 0.9987 - val_loss: 0.0382 - val_acc: 0.9917\n",
      "Epoch 20/50\n",
      "60000/60000 [==============================] - 7s 115us/step - loss: 0.0039 - acc: 0.9988 - val_loss: 0.0508 - val_acc: 0.9904\n",
      "Epoch 21/50\n",
      "60000/60000 [==============================] - 7s 112us/step - loss: 0.0037 - acc: 0.9989 - val_loss: 0.0483 - val_acc: 0.9915\n",
      "Epoch 22/50\n",
      "60000/60000 [==============================] - 6s 106us/step - loss: 0.0039 - acc: 0.9989 - val_loss: 0.0381 - val_acc: 0.9920\n",
      "Epoch 23/50\n",
      "60000/60000 [==============================] - 6s 104us/step - loss: 0.0028 - acc: 0.9992 - val_loss: 0.0544 - val_acc: 0.9898\n",
      "Epoch 24/50\n",
      "60000/60000 [==============================] - 6s 104us/step - loss: 0.0060 - acc: 0.9984 - val_loss: 0.0448 - val_acc: 0.9932\n",
      "Epoch 25/50\n",
      "60000/60000 [==============================] - 6s 96us/step - loss: 0.0030 - acc: 0.9990 - val_loss: 0.0452 - val_acc: 0.9919\n",
      "Epoch 26/50\n",
      "60000/60000 [==============================] - 6s 102us/step - loss: 0.0042 - acc: 0.9988 - val_loss: 0.0500 - val_acc: 0.9917\n",
      "Epoch 27/50\n",
      "60000/60000 [==============================] - 6s 99us/step - loss: 0.0023 - acc: 0.9994 - val_loss: 0.0498 - val_acc: 0.9921\n",
      "Epoch 28/50\n",
      "60000/60000 [==============================] - 6s 97us/step - loss: 0.0020 - acc: 0.9994 - val_loss: 0.0553 - val_acc: 0.9901\n",
      "Epoch 29/50\n",
      "60000/60000 [==============================] - 6s 101us/step - loss: 0.0040 - acc: 0.9989 - val_loss: 0.0465 - val_acc: 0.9919\n",
      "Epoch 30/50\n",
      "60000/60000 [==============================] - 6s 99us/step - loss: 0.0039 - acc: 0.9991 - val_loss: 0.0442 - val_acc: 0.9914\n",
      "Epoch 31/50\n",
      "60000/60000 [==============================] - 6s 97us/step - loss: 0.0022 - acc: 0.9993 - val_loss: 0.0548 - val_acc: 0.9920\n",
      "Epoch 32/50\n",
      "60000/60000 [==============================] - 6s 102us/step - loss: 0.0047 - acc: 0.9988 - val_loss: 0.0477 - val_acc: 0.9918\n",
      "Epoch 33/50\n",
      "60000/60000 [==============================] - 6s 106us/step - loss: 0.0023 - acc: 0.9993 - val_loss: 0.0457 - val_acc: 0.9924\n",
      "Epoch 34/50\n",
      "60000/60000 [==============================] - 6s 102us/step - loss: 0.0046 - acc: 0.9990 - val_loss: 0.0592 - val_acc: 0.9907\n",
      "Epoch 35/50\n",
      "60000/60000 [==============================] - 6s 99us/step - loss: 0.0020 - acc: 0.9995 - val_loss: 0.0516 - val_acc: 0.9918\n",
      "Epoch 36/50\n",
      "60000/60000 [==============================] - 6s 100us/step - loss: 0.0037 - acc: 0.9989 - val_loss: 0.0496 - val_acc: 0.9925\n",
      "Epoch 37/50\n",
      "60000/60000 [==============================] - 7s 113us/step - loss: 0.0037 - acc: 0.9991 - val_loss: 0.0528 - val_acc: 0.9924\n",
      "Epoch 38/50\n",
      "60000/60000 [==============================] - 6s 104us/step - loss: 0.0023 - acc: 0.9994 - val_loss: 0.0522 - val_acc: 0.9926\n",
      "Epoch 39/50\n",
      "60000/60000 [==============================] - 6s 107us/step - loss: 0.0024 - acc: 0.9995 - val_loss: 0.0584 - val_acc: 0.9915\n",
      "Epoch 40/50\n",
      "60000/60000 [==============================] - 6s 106us/step - loss: 0.0030 - acc: 0.9993 - val_loss: 0.0510 - val_acc: 0.9922\n",
      "Epoch 41/50\n",
      "60000/60000 [==============================] - 7s 112us/step - loss: 0.0018 - acc: 0.9995 - val_loss: 0.0617 - val_acc: 0.9922\n",
      "Epoch 42/50\n",
      "60000/60000 [==============================] - 8s 136us/step - loss: 0.0036 - acc: 0.9992 - val_loss: 0.0531 - val_acc: 0.9917\n",
      "Epoch 43/50\n",
      "60000/60000 [==============================] - 7s 120us/step - loss: 0.0029 - acc: 0.9992 - val_loss: 0.0554 - val_acc: 0.9927\n",
      "Epoch 44/50\n",
      "60000/60000 [==============================] - 7s 120us/step - loss: 0.0028 - acc: 0.9994 - val_loss: 0.0437 - val_acc: 0.9923\n",
      "Epoch 45/50\n",
      "60000/60000 [==============================] - 7s 110us/step - loss: 0.0019 - acc: 0.9995 - val_loss: 0.0465 - val_acc: 0.9926\n",
      "Epoch 46/50\n",
      "60000/60000 [==============================] - 6s 98us/step - loss: 0.0020 - acc: 0.9996 - val_loss: 0.0633 - val_acc: 0.9903\n",
      "Epoch 47/50\n",
      "60000/60000 [==============================] - 6s 97us/step - loss: 0.0021 - acc: 0.9994 - val_loss: 0.0577 - val_acc: 0.9925\n",
      "Epoch 48/50\n",
      "60000/60000 [==============================] - 6s 97us/step - loss: 0.0024 - acc: 0.9994 - val_loss: 0.0598 - val_acc: 0.9917\n",
      "Epoch 49/50\n",
      "60000/60000 [==============================] - 6s 97us/step - loss: 0.0050 - acc: 0.9990 - val_loss: 0.0582 - val_acc: 0.9923\n",
      "Epoch 50/50\n",
      "60000/60000 [==============================] - 6s 97us/step - loss: 0.0025 - acc: 0.9994 - val_loss: 0.0567 - val_acc: 0.9928\n"
     ]
    }
   ],
   "source": [
    "history=model.fit(trainx,trainy,validation_data=(testx,testy),epochs=50,batch_size=50)"
   ]
  },
  {
   "cell_type": "code",
   "execution_count": 12,
   "metadata": {},
   "outputs": [
    {
     "data": {
      "image/png": "[encoded data removed]",
      "text/plain": [
       "<Figure size 432x288 with 1 Axes>"
      ]
     },
     "metadata": {
      "needs_background": "light"
     },
     "output_type": "display_data"
    }
   ],
   "source": [
    "plt.plot(history.history['acc'])\n",
    "plt.plot(history.history['val_acc'])\n",
    "plt.title('Train accuracy')\n",
    "plt.ylabel('accuracy')\n",
    "plt.xlabel('epoch')\n",
    "plt.legend(['train', 'test'], loc='upper left')\n",
    "plt.show()"
   ]
  },
  {
   "cell_type": "code",
   "execution_count": null,
   "metadata": {},
   "outputs": [],
   "source": []
  }
 ],
 "metadata": {
  "kernelspec": {
   "display_name": "Python 3",
   "language": "python",
   "name": "python3"
  },
  "language_info": {
   "codemirror_mode": {
    "name": "ipython",
    "version": 3
   },
   "file_extension": ".py",
   "mimetype": "text/x-python",
   "name": "python",
   "nbconvert_exporter": "python",
   "pygments_lexer": "ipython3",
   "version": "3.6.8"
  }
 },
 "nbformat": 4,
 "nbformat_minor": 2
}
